{
 "cells": [
  {
   "cell_type": "code",
   "execution_count": 17,
   "id": "af456fca",
   "metadata": {},
   "outputs": [
    {
     "name": "stdout",
     "output_type": "stream",
     "text": [
      "hello world\n"
     ]
    }
   ],
   "source": [
    "print(\"hello world\")"
   ]
  },
  {
   "cell_type": "code",
   "execution_count": 76,
   "id": "033c824d",
   "metadata": {},
   "outputs": [],
   "source": [
    "import os\n",
    "import numpy as np\n",
    "from PIL import Image\n",
    "import matplotlib.pyplot as plt\n",
    "\n",
    "\n",
    "import torch\n",
    "from torch.utils.data import Dataset\n",
    "import random\n",
    "import torchvision.transforms.functional as TF\n",
    "import torchvision.transforms as transforms"
   ]
  },
  {
   "cell_type": "code",
   "execution_count": 79,
   "id": "6983870f",
   "metadata": {},
   "outputs": [],
   "source": [
    "\n",
    "class SegmentationTransforms:\n",
    "    def __init__(self, image_size=(256, 256), degrees=15, scale=(0.8, 1.2), shear=10, contrast_range=(0.5, 1.0)):\n",
    "        self.image_size = image_size\n",
    "        self.degrees = degrees\n",
    "        self.scale = scale\n",
    "        self.shear = shear\n",
    "        self.contrast_range = contrast_range  # new param for contrast factor range\n",
    "\n",
    "    def __call__(self, image, mask):\n",
    "        # Horizontal flip\n",
    "        if random.random() > 0.5:\n",
    "            image = TF.hflip(image)\n",
    "            mask = TF.hflip(mask)\n",
    "\n",
    "        # Vertical flip\n",
    "        if random.random() > 0.5:\n",
    "            image = TF.vflip(image)\n",
    "            mask = TF.vflip(mask)\n",
    "\n",
    "        # Random affine transform\n",
    "        angle = random.uniform(-self.degrees, self.degrees)\n",
    "        translations = (0, 0)\n",
    "        scale = random.uniform(self.scale[0], self.scale[1])\n",
    "        shear = random.uniform(-self.shear, self.shear)\n",
    "        image = TF.affine(image, angle=angle, translate=translations, scale=scale, shear=shear, fill=0)\n",
    "        mask = TF.affine(mask, angle=angle, translate=translations, scale=scale, shear=shear, fill=0, interpolation=TF.InterpolationMode.NEAREST)\n",
    "\n",
    "        # Random crop\n",
    "        i, j, h, w = transforms.RandomCrop.get_params(image, output_size=self.image_size)\n",
    "        image = TF.crop(image, i, j, h, w)\n",
    "        mask = TF.crop(mask, i, j, h, w)\n",
    "\n",
    "        # Color jitter on image\n",
    "        color_jitter = transforms.ColorJitter(0.2, 0.2, 0.2, 0.05)\n",
    "        image = color_jitter(image)\n",
    "\n",
    "        # Random contrast adjustment (factor between contrast_range)\n",
    "        contrast_factor = random.uniform(self.contrast_range[0], self.contrast_range[1])\n",
    "        image = TF.adjust_contrast(image, contrast_factor)\n",
    "\n",
    "        # Optional: Gaussian blur on image only\n",
    "        if random.random() > 0.7:\n",
    "            image = TF.gaussian_blur(image, kernel_size=3)\n",
    "\n",
    "        # Resize both to image_size\n",
    "        image = TF.resize(image, self.image_size)\n",
    "        mask = TF.resize(mask, self.image_size, interpolation=TF.InterpolationMode.NEAREST)\n",
    "\n",
    "        return image, mask"
   ]
  },
  {
   "cell_type": "code",
   "execution_count": 80,
   "id": "77ad692c",
   "metadata": {},
   "outputs": [],
   "source": [
    "# Instantiate transform\n",
    "augmentor = SegmentationTransforms(image_size=(256, 256))\n",
    "\n",
    "#Paths\n",
    "image_path = \"src\\dataset\\images\\Grain 1.png\"\n",
    "mask_path = \"src\\dataset\\masks\\Grain 1.png\"\n",
    "\n",
    "# Load your image and mask (both must be PIL Images)\n",
    "image = Image.open(image_path).convert('L')\n",
    "mask = Image.open(mask_path).convert('L')\n",
    "\n",
    "# Instantiate and apply transform\n",
    "augmentor = SegmentationTransforms(image_size=(256, 256))\n",
    "aug_image, aug_mask = augmentor(image, mask)"
   ]
  },
  {
   "cell_type": "code",
   "execution_count": 81,
   "id": "6e1a6d0a",
   "metadata": {},
   "outputs": [
    {
     "data": {
      "image/png": "[encoded data removed]",
      "text/plain": [
       "<Figure size 1000x500 with 2 Axes>"
      ]
     },
     "metadata": {},
     "output_type": "display_data"
    }
   ],
   "source": [
    "# Show results\n",
    "fig, ax = plt.subplots(1, 2, figsize=(10,5))\n",
    "ax[0].imshow(aug_image, cmap='gray')\n",
    "ax[0].set_title('Augmented Grayscale Image')\n",
    "ax[0].axis('off')\n",
    "\n",
    "ax[1].imshow(aug_mask, cmap='gray')\n",
    "ax[1].set_title('Augmented Grayscale Mask')\n",
    "ax[1].axis('off')\n",
    "\n",
    "plt.show()"
   ]
  },
  {
   "cell_type": "code",
   "execution_count": 82,
   "id": "7018caa2",
   "metadata": {},
   "outputs": [],
   "source": [
    "def augment_dataset(src_img_dir, src_mask_dir, dst_img_dir, dst_mask_dir, augmentor, augmentations_per_image=5):\n",
    "    os.makedirs(dst_img_dir, exist_ok=True)\n",
    "    os.makedirs(dst_mask_dir, exist_ok=True)\n",
    "\n",
    "    img_filenames = [f for f in os.listdir(src_img_dir) if f.lower().endswith(('.png', '.jpg', '.jpeg', '.bmp'))]\n",
    "\n",
    "    for img_name in img_filenames:\n",
    "        img_path = os.path.join(src_img_dir, img_name)\n",
    "        mask_path = os.path.join(src_mask_dir, img_name)  # assuming masks have same filename\n",
    "\n",
    "        if not os.path.exists(mask_path):\n",
    "            print(f\"Mask for image {img_name} not found, skipping.\")\n",
    "            continue\n",
    "\n",
    "        image = Image.open(img_path).convert('L')\n",
    "        mask = Image.open(mask_path).convert('L')\n",
    "\n",
    "        for i in range(augmentations_per_image):\n",
    "            aug_image, aug_mask = augmentor(image, mask)\n",
    "\n",
    "            base_name, ext = os.path.splitext(img_name)\n",
    "            aug_img_name = f\"{base_name}_aug_{i+1}{ext}\"\n",
    "\n",
    "            aug_image.save(os.path.join(dst_img_dir, aug_img_name))\n",
    "            aug_mask.save(os.path.join(dst_mask_dir, aug_img_name))\n",
    "\n",
    "        print(f\"Augmented {img_name} with {augmentations_per_image} samples.\")"
   ]
  },
  {
   "cell_type": "code",
   "execution_count": 83,
   "id": "47c8947d",
   "metadata": {},
   "outputs": [
    {
     "name": "stdout",
     "output_type": "stream",
     "text": [
      "Augmented Grain 1.png with 5 samples.\n",
      "Augmented Grain 102.png with 5 samples.\n",
      "Mask for image Grain 106.png not found, skipping.\n",
      "Augmented Grain 114.png with 5 samples.\n",
      "Augmented Grain 13.png with 5 samples.\n",
      "Augmented Grain 17.png with 5 samples.\n",
      "Augmented Grain 18.png with 5 samples.\n",
      "Augmented Grain 2.png with 5 samples.\n",
      "Augmented Grain 25.png with 5 samples.\n",
      "Augmented Grain 3.png with 5 samples.\n",
      "Augmented Grain 33.png with 5 samples.\n",
      "Augmented Grain 35.png with 5 samples.\n",
      "Augmented Grain 5.png with 5 samples.\n",
      "Augmented Grain 6.png with 5 samples.\n",
      "Augmented Grain 7.png with 5 samples.\n",
      "Augmented Grain 76.png with 5 samples.\n",
      "Augmented Grain 78.png with 5 samples.\n",
      "Augmented Grain 79.png with 5 samples.\n",
      "Augmented Grain 8.png with 5 samples.\n"
     ]
    }
   ],
   "source": [
    "src_images = \"src/dataset/images\"\n",
    "src_masks = \"src/dataset/masks\"\n",
    "dst_images = \"src/dataset_aug/images\"\n",
    "dst_masks = \"src/dataset_aug/masks\"\n",
    "augmentations_per_image = 5  # adjust this as you want\n",
    "\n",
    "augmentor = SegmentationTransforms(image_size=(256, 256))\n",
    "augment_dataset(src_images, src_masks, dst_images, dst_masks, augmentor, augmentations_per_image)"
   ]
  }
 ],
 "metadata": {
  "kernelspec": {
   "display_name": ".venv",
   "language": "python",
   "name": "python3"
  },
  "language_info": {
   "codemirror_mode": {
    "name": "ipython",
    "version": 3
   },
   "file_extension": ".py",
   "mimetype": "text/x-python",
   "name": "python",
   "nbconvert_exporter": "python",
   "pygments_lexer": "ipython3",
   "version": "3.7.9"
  }
 },
 "nbformat": 4,
 "nbformat_minor": 5
}
